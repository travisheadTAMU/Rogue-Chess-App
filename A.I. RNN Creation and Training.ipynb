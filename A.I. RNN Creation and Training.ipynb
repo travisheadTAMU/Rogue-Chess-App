{
 "cells": [
  {
   "cell_type": "code",
   "execution_count": null,
   "id": "db9a8ff1",
   "metadata": {},
   "outputs": [],
   "source": [
    "!pip install numpy\n",
    "!pip install pydirectory\n",
    "!pip install tensorflow\n"
   ]
  },
  {
   "cell_type": "code",
   "execution_count": null,
   "id": "0a97b709",
   "metadata": {},
   "outputs": [],
   "source": [
    "import pandas as pd\n",
    "import numpy \n",
    "\n",
    "import tensorflow.keras.models as models\n",
    "import tensorflow.keras.layers as layers\n",
    "import tensorflow.keras.utils as utils\n",
    "import tensorflow.keras.optimizers as optimizers\n",
    "import tensorflow as tf\n",
    "\n",
    "import matplotlib.pyplot as plt\n"
   ]
  },
  {
   "cell_type": "code",
   "execution_count": null,
   "id": "981f3840",
   "metadata": {},
   "outputs": [],
   "source": [
"#loads dataset into set of arrays 
"def get_dataSet(): 
"    XYcontent = numpy.load('C:\\Users\\travi\\Downloads\\Chess_data\\XYTrainingData50K.npz') # loads dataset
"    x, y = XYcontent['x'], XYcontent['y']

"    i = 0
"    k = 0
    
"    #size = len(x)
 "   #size = 2104781
  "  size = 2100000

"    if (size % 10 != 0): # allows for clean allocation to trainSize
 "       cut = size % 10 # divisible by 10
  "      size = size - cut

"    trainSize = int(size * 0.8)
 "   valSize = int(size * 0.2)
  "  
 "   # intialize matrices
  "  x_train = numpy.zeros((trainSize, 6, 8, 8), dtype=numpy.float32)
  "  y_train = numpy.zeros((trainSize, 6, 8, 8), dtype=numpy.float32)
  "  
  "  x_val = numpy.zeros((valSize, 6, 8, 8), dtype=numpy.float32)
  "  y_val = numpy.zeros((valSize, 6, 8, 8), dtype=numpy.float32)
    
    
  "  for i in range (size): # split into training data and validation data
  "      if (i < trainSize):
  "          x_train[i] = x[i]
  "          y_train[i] = y[i]
  "      else:
  "          x_val[k] = x[i]
  "          y_val[k] = y[i]
 "           k += 1
            
"    return x_train, y_train, x_val, y_val, size

   ]
  },
  {
   "cell_type": "code",
   "execution_count": null,
   "id": "d274b998",
   "metadata": {},
   "outputs": [],
   "source": [
    "x_train, y_train, x_val, y_val = get_dataSet()"
   ]
  },
  {
   "cell_type": "code",
   "execution_count": null,
   "id": "a5e76eaf",
   "metadata": {},
   "outputs": [],
   "source": [
    "# Creating the RNN model\n",
    "\n",
    "# timestep = 5\n",
    "# input_shape = (timestep, features)\n",
    "\n",
    "from keras.models import Sequential\n",
    "from keras.layers import Dense,BatchNormalization,Dropout,Reshape,Flatten,Embedding,SimpleRNN,Input,Bidirectional,InputLayer\n",
    "\n",
    "model = Sequential(name = \"Sequential\")\n",
    "\n",
    "model.add(SimpleRNN(384, return_sequences=True, activation=\"relu\",input_shape = (5,384), name = \"SimpleRNN_1\"))\n",
    "model.add(Dense(384, activation=\"relu\",input_shape = (6,8,8), name = \"Dense_1\"))\n",
    "model.add(Dense((384), activation = 'softmax', name = \"Dense_softmax\")) # results in 3 neurons for piece(matrix number), row, column"
   ]
  },
  {
   "cell_type": "code",
   "execution_count": null,
   "id": "ddf3cf99",
   "metadata": {},
   "outputs": [],
   "source": [
    "model.summary()"
   ]
  },
  {
   "cell_type": "code",
   "execution_count": null,
   "id": "9232c7f4",
   "metadata": {},
   "outputs": [],
   "source": [
    "# Training the RNN model\n",
    "model.compile(optimizer=optimizers.Adam(5e-4), loss='mean_squared_error', metrics = [\"accuracy\", \"mean_squared_error\"]) # configures the model with losses and metrics\n",
    "\n",
    "x_train_reshaped = numpy.reshape(x_train, (177600, 5, 384))\n",
    "y_train_reshaped = numpy.reshape(y_train, (177600, 5, 384))\n",
    "x_val_reshaped = numpy.reshape(x_train, (177600, 5, 384))\n",
    "y_val_reshaped = numpy.reshape(y_train, (177600, 5, 384))\n",
    "\n",
    "x_train_tensor = tf.convert_to_tensor(x_train_reshaped)\n",
    "y_train_tensor = tf.convert_to_tensor(y_train_reshaped)\n",
    "x_val_tensor = tf.convert_to_tensor(x_train_reshaped)\n",
    "y_val_tensor = tf.convert_to_tensor(y_train_reshaped)\n",
    "\n",
    "\n",
    "# this function trains the model\n",
    "history = model.fit(x_train_tensor, y_train_tensor, # passing training data\n",
    "          batch_size=20, # amount of data each iteration in an epoch sees\n",
    "          epochs=50,\n",
    "          validation_data = (x_val_tensor, y_val_tensor)) # number of times it checks the data"
   ]
  },
  {
   "cell_type": "code",
   "execution_count": null,
   "id": "59ea73dc",
   "metadata": {},
   "outputs": [],
   "source": [
    "test_scores = model.evaluate(x_val_reshaped, y_val_reshaped, verbose = 2)\n",
    "print(\"Test loss:\", test_scores[0])\n",
    "print(\"Test accuracy:\", test_scores[1])\n",
    "print(\"MSE:\", test_scores[2])"
   ]
  },
  {
   "cell_type": "code",
   "execution_count": null,
   "id": "1d37a575",
   "metadata": {},
   "outputs": [],
   "source": [
    "# Visualize training process\n",
    "\n",
    "# Blue line is for Training Data\n",
    "# Orange line is for Validation Data\n",
    "\n",
    "plt.figure()\n",
    "plt.title(\"Model Loss\")\n",
    "plt.ylabel(\"Loss (training and validation)\")\n",
    "plt.xlabel(\"Epochs\")\n",
    "plt.plot(history.history[\"loss\"])\n",
    "plt.legend([\"Train Loss\"])\n",
    "plt.plot(history.history[\"val_loss\"])\n",
    "#plt.legend([\"Validation Loss\"])\n",
    "\n",
    "\n",
    "\n",
    "plt.figure()\n",
    "plt.title(\"Model Accuracy\")\n",
    "plt.ylabel(\"Accuracy\")\n",
    "plt.xlabel(\"Epochs\")\n",
    "plt.plot(history.history[\"accuracy\"])\n",
    "plt.plot(history.history[\"val_accuracy\"])\n"
   ]
  },
  {
   "cell_type": "code",
   "execution_count": null,
   "id": "79b331ac",
   "metadata": {},
   "outputs": [],
   "source": [
    "#saves the model\n",
    "model.save(r\"C:/Users/travi/Downloads/Chess_data/RNN/RNNmodel25KGames20B50E.tf\")"
   ]
  },
  {
   "cell_type": "code",
   "execution_count": null,
   "id": "f350763c",
   "metadata": {},
   "outputs": [],
   "source": [
    "# load the saved model\n",
    "models.load_model(\n",
    "    r\"C:/Users/travi/Downloads/Chess_data/RNN/RNNmodel25KGames20B50E.tf\", \n",
    "    custom_objects=None, \n",
    "    compile=True, \n",
    "    options=None)"
   ]
  },
  {
   "cell_type": "code",
   "execution_count": null,
   "id": "9e04fd39",
   "metadata": {},
   "outputs": [],
   "source": []
  },
  {
   "cell_type": "code",
   "execution_count": null,
   "id": "aebf1596",
   "metadata": {},
   "outputs": [],
   "source": []
  }
 ],
 "metadata": {
  "kernelspec": {
   "display_name": "Python 3 (ipykernel)",
   "language": "python",
   "name": "python3"
  },
  "language_info": {
   "codemirror_mode": {
    "name": "ipython",
    "version": 3
   },
   "file_extension": ".py",
   "mimetype": "text/x-python",
   "name": "python",
   "nbconvert_exporter": "python",
   "pygments_lexer": "ipython3",
   "version": "3.9.7"
  }
 },
 "nbformat": 4,
 "nbformat_minor": 5
}
