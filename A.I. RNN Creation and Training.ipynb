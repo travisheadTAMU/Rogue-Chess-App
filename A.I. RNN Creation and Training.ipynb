{
 "cells": [
  {
   "cell_type": "code",
   "execution_count": null,
   "id": "db9a8ff1",
   "metadata": {},
   "outputs": [],
   "source": [
    "!pip install numpy\n",
    "!pip install pydirectory\n",
    "!pip install tensorflow\n"
   ]
  },
  {
   "cell_type": "code",
   "execution_count": 1,
   "id": "0a97b709",
   "metadata": {},
   "outputs": [],
   "source": [
    "import pandas as pd\n",
    "import numpy \n",
    "\n",
    "import tensorflow.keras.models as models\n",
    "import tensorflow.keras.layers as layers\n",
    "import tensorflow.keras.utils as utils\n",
    "import tensorflow.keras.optimizers as optimizers\n",
    "import tensorflow as tf\n",
    "\n",
    "import matplotlib.pyplot as plt\n"
   ]
  },
  {
   "cell_type": "code",
   "execution_count": 2,
   "id": "981f3840",
   "metadata": {},
   "outputs": [],
   "source": [
    "#loads dataset into set of arrays \n",
    "def get_dataSet(): \n",
    "    XYcontent = numpy.load('C:\\\\Users\\\\travi\\\\Downloads\\\\Chess_data\\\\XYTrainingData50K.npz') # loads dataset\n",
    "    x, y = XYcontent['x'], XYcontent['y']\n",
    "\n",
    "    i = 0\n",
    "    k = 0\n",
    "    \n",
    "    #size = len(x)\n",
    "    #size = 2104781\n",
    "    size = 2100000\n",
    "\n",
    "    if (size % 10 != 0): # allows for clean allocation to trainSize\n",
    "        cut = size % 10 # divisible by 10\n",
    "        size = size - cut\n",
    "\n",
    "    trainSize = int(size * 0.8)\n",
    "    valSize = int(size * 0.2)\n",
    "    \n",
    "    # intialize matrices\n",
    "    x_train = numpy.zeros((trainSize, 6, 8, 8), dtype=numpy.float32)\n",
    "    y_train = numpy.zeros((trainSize, 6, 8, 8), dtype=numpy.float32)\n",
    "    \n",
    "    x_val = numpy.zeros((valSize, 6, 8, 8), dtype=numpy.float32)\n",
    "    y_val = numpy.zeros((valSize, 6, 8, 8), dtype=numpy.float32)\n",
    "    \n",
    "    \n",
    "    for i in range (size): # split into training data and validation data\n",
    "        if (i < trainSize):\n",
    "            x_train[i] = x[i]\n",
    "            y_train[i] = y[i]\n",
    "        else:\n",
    "            x_val[k] = x[i]\n",
    "            y_val[k] = y[i]\n",
    "            k += 1\n",
    "            \n",
    "    return x_train, y_train, x_val, y_val, size\n"
   ]
  },
  {
   "cell_type": "code",
   "execution_count": 3,
   "id": "d274b998",
   "metadata": {},
   "outputs": [],
   "source": [
    "x_train, y_train, x_val, y_val = get_dataSet()"
   ]
  },
  {
   "cell_type": "code",
   "execution_count": null,
   "id": "a5e76eaf",
   "metadata": {},
   "outputs": [],
   "source": [
    "# creating the RNN model\n",
    "#timestep = 5\n",
    "\n",
    "from keras.models import Sequential\n",
    "from keras.layers import Dense,BatchNormalization,Dropout,SimpleRNN\n",
    "\n",
    "model = Sequential(name = \"Sequential\")\n",
    "\n",
    "#model.add(Embedding(input_dim=384, output_dim=384))\n",
    "#model.add(InputLayer(input_shape = (6,8,8)))\n",
    "\n",
    "# input_shape = (timestep, features)\n",
    "model.add(SimpleRNN(384, return_sequences=True, activation=\"relu\",input_shape = (5,384), name = \"RNN\"))\n",
    "model.add(Dense(384, activation=\"tanh\",input_shape = (6,8,8), name = \"Dense_1\"))\n",
    "model.add(Dropout(rate = 0.2))\n",
    "model.add(Dense((384), activation = 'softmax', name = \"Dense_softmax\")) \n"
   ]
  },
  {
   "cell_type": "code",
   "execution_count": null,
   "id": "ddf3cf99",
   "metadata": {},
   "outputs": [],
   "source": [
    "model.summary()"
   ]
  },
  {
   "cell_type": "code",
   "execution_count": null,
   "id": "9232c7f4",
   "metadata": {},
   "outputs": [],
   "source": [
    "import tensorflow.keras.models as models\n",
    "import tensorflow.keras.layers as layers\n",
    "import tensorflow.keras.utils as utils\n",
    "import tensorflow.keras.optimizers as optimizers\n",
    "#import tensorflow.keras.callbacks.EarlyStopping as EarlyStopping\n",
    "import tensorflow as tf\n",
    "\n",
    "model.compile(optimizer=optimizers.Adam(5e-4), loss='mean_squared_error', metrics = [\"accuracy\", \"mean_squared_error\"]) # configures the model with losses and metrics\n",
    "\n",
    "#reshape matrices for training\n",
    "x_train_reshaped = numpy.reshape(x_train, (336000, 5, 384))\n",
    "y_train_reshaped = numpy.reshape(y_train, (336000, 5, 384))\n",
    "x_val_reshaped = numpy.reshape(x_train, (336000, 5, 384))\n",
    "y_val_reshaped = numpy.reshape(y_train, (336000, 5, 384))\n",
    "\n",
    "#convert matrices to tensor type\n",
    "x_train_tensor = tf.convert_to_tensor(x_train_reshaped)\n",
    "y_train_tensor = tf.convert_to_tensor(y_train_reshaped)\n",
    "x_val_tensor = tf.convert_to_tensor(x_train_reshaped)\n",
    "y_val_tensor = tf.convert_to_tensor(y_train_reshaped)\n",
    "\n",
    "callback = tf.keras.callbacks.EarlyStopping(monitor='loss', patience=2) # stops training if loss plateaus\n",
    "\n",
    "# this function trains the model\n",
    "history = model.fit(x_train_tensor, y_train_tensor, # passing training data\n",
    "          batch_size=25, # amount of data each iteration in an epoch sees\n",
    "          epochs=200, # number of times it checks the data\n",
    "          validation_data = (x_val_tensor, y_val_tensor),\n",
    "          callbacks = [callback]) "
   ]
  },
  {
   "cell_type": "code",
   "execution_count": null,
   "id": "59ea73dc",
   "metadata": {},
   "outputs": [],
   "source": [
    "test_scores = model.evaluate(x_val_reshaped, y_val_reshaped, verbose = 2)\n",
    "print(\"Test loss:\", test_scores[0])\n",
    "print(\"Test accuracy:\", test_scores[1])\n",
    "print(\"MSE:\", test_scores[2])"
   ]
  },
  {
   "cell_type": "code",
   "execution_count": 5,
   "id": "1d37a575",
   "metadata": {},
   "outputs": [
    {
     "ename": "NameError",
     "evalue": "name 'history' is not defined",
     "output_type": "error",
     "traceback": [
      "\u001b[1;31m---------------------------------------------------------------------------\u001b[0m",
      "\u001b[1;31mNameError\u001b[0m                                 Traceback (most recent call last)",
      "Input \u001b[1;32mIn [5]\u001b[0m, in \u001b[0;36m<cell line: 10>\u001b[1;34m()\u001b[0m\n\u001b[0;32m      8\u001b[0m plt\u001b[38;5;241m.\u001b[39mylabel(\u001b[38;5;124m\"\u001b[39m\u001b[38;5;124mLoss (training and validation)\u001b[39m\u001b[38;5;124m\"\u001b[39m)\n\u001b[0;32m      9\u001b[0m plt\u001b[38;5;241m.\u001b[39mxlabel(\u001b[38;5;124m\"\u001b[39m\u001b[38;5;124mEpochs\u001b[39m\u001b[38;5;124m\"\u001b[39m)\n\u001b[1;32m---> 10\u001b[0m plt\u001b[38;5;241m.\u001b[39mplot(\u001b[43mhistory\u001b[49m\u001b[38;5;241m.\u001b[39mhistory[\u001b[38;5;124m\"\u001b[39m\u001b[38;5;124mloss\u001b[39m\u001b[38;5;124m\"\u001b[39m])\n\u001b[0;32m     11\u001b[0m plt\u001b[38;5;241m.\u001b[39mlegend([\u001b[38;5;124m\"\u001b[39m\u001b[38;5;124mTrain Loss\u001b[39m\u001b[38;5;124m\"\u001b[39m])\n\u001b[0;32m     12\u001b[0m plt\u001b[38;5;241m.\u001b[39mplot(history\u001b[38;5;241m.\u001b[39mhistory[\u001b[38;5;124m\"\u001b[39m\u001b[38;5;124mval_loss\u001b[39m\u001b[38;5;124m\"\u001b[39m])\n",
      "\u001b[1;31mNameError\u001b[0m: name 'history' is not defined"
     ]
    },
    {
     "data": {
      "image/png": "[encoded data removed]",
      "text/plain": [
       "<Figure size 432x288 with 1 Axes>"
      ]
     },
     "metadata": {
      "needs_background": "light"
     },
     "output_type": "display_data"
    }
   ],
   "source": [
    "# Visualize training process\n",
    "\n",
    "# Blue line is for Training Data\n",
    "# Orange line is for Validation Data\n",
    "\n",
    "plt.figure()\n",
    "plt.title(\"Model Loss\")\n",
    "plt.ylabel(\"Loss (training and validation)\")\n",
    "plt.xlabel(\"Epochs\")\n",
    "plt.plot(history.history[\"loss\"])\n",
    "plt.legend([\"Train Loss\"])\n",
    "plt.plot(history.history[\"val_loss\"])\n",
    "#plt.legend([\"Validation Loss\"])\n",
    "\n",
    "\n",
    "\n",
    "plt.figure()\n",
    "plt.title(\"Model Accuracy\")\n",
    "plt.ylabel(\"Accuracy\")\n",
    "plt.xlabel(\"Epochs\")\n",
    "plt.plot(history.history[\"accuracy\"])\n",
    "plt.plot(history.history[\"val_accuracy\"])\n"
   ]
  },
  {
   "cell_type": "code",
   "execution_count": null,
   "id": "79b331ac",
   "metadata": {},
   "outputs": [],
   "source": [
    "#saves the model\n",
    "model.save(r\"C:/Users/travi/Downloads/Chess_data/RNN/RNNmodel25KGames20B50E.tf\")"
   ]
  },
  {
   "cell_type": "code",
   "execution_count": 4,
   "id": "f350763c",
   "metadata": {},
   "outputs": [
    {
     "data": {
      "text/plain": [
       "<keras.engine.sequential.Sequential at 0x245df752490>"
      ]
     },
     "execution_count": 4,
     "metadata": {},
     "output_type": "execute_result"
    }
   ],
   "source": [
    "# load the saved model\n",
    "savedModel = models.load_model(\n",
    "    r\"C:/Users/travi/Downloads/Chess_data/RNN/RNNmodel50KGamesTanhCenter25B200E.tf\", \n",
    "    custom_objects=None, \n",
    "    compile=True, \n",
    "    options=None)"
   ]
  },
  {
   "cell_type": "code",
   "execution_count": 2,
   "id": "9e04fd39",
   "metadata": {},
   "outputs": [
    {
     "ename": "NameError",
     "evalue": "name 'tf' is not defined",
     "output_type": "error",
     "traceback": [
      "\u001b[1;31m---------------------------------------------------------------------------\u001b[0m",
      "\u001b[1;31mNameError\u001b[0m                                 Traceback (most recent call last)",
      "Input \u001b[1;32mIn [2]\u001b[0m, in \u001b[0;36m<cell line: 2>\u001b[1;34m()\u001b[0m\n\u001b[0;32m      1\u001b[0m \u001b[38;5;66;03m# Convert the model to tflite\u001b[39;00m\n\u001b[1;32m----> 2\u001b[0m converter \u001b[38;5;241m=\u001b[39m \u001b[43mtf\u001b[49m\u001b[38;5;241m.\u001b[39mlite\u001b[38;5;241m.\u001b[39mTFLiteConverter\u001b[38;5;241m.\u001b[39mfrom_keras_model(\u001b[38;5;124mr\u001b[39m\u001b[38;5;124m\"\u001b[39m\u001b[38;5;124mC:/Users/travi/Downloads/Chess_data/RNN/RNNmodel25KGames20B50E.tf\u001b[39m\u001b[38;5;124m\"\u001b[39m) \u001b[38;5;66;03m# path to the SavedModel directory\u001b[39;00m\n\u001b[0;32m      3\u001b[0m tflite_model \u001b[38;5;241m=\u001b[39m converter\u001b[38;5;241m.\u001b[39mconvert()\n\u001b[0;32m      5\u001b[0m \u001b[38;5;66;03m# Save the model.\u001b[39;00m\n",
      "\u001b[1;31mNameError\u001b[0m: name 'tf' is not defined"
     ]
    }
   ],
   "source": [
    "# Convert the model to tflite\n",
    "converter = tf.lite.TFLiteConverter.from_keras_model(savedModel) # path to the SavedModel directory\n",
    "converter.target_spec.supported_ops = [tf.lite.OpsSet.TFLITE_BUILTINS, tf.lite.OpsSet.SELECT_TF_OPS] \n",
    "converter._experimental_lower_tensor_list_ops = False\n",
    "\n",
    "tflite_model = converter.convert()\n",
    "\n",
    "# Save the tflite model.\n",
    "with open(r'C:/Users/travi/Downloads/Chess_data/RNN/RNNmodel50KGamesTanhCenter25B200E.tflite', 'wb') as f:\n",
    "    f.write(tflite_model)\n",
    "f.close()"
   ]
  },
  {
   "cell_type": "code",
   "execution_count": null,
   "id": "aebf1596",
   "metadata": {},
   "outputs": [],
   "source": []
  }
 ],
 "metadata": {
  "kernelspec": {
   "display_name": "Python 3 (ipykernel)",
   "language": "python",
   "name": "python3"
  },
  "language_info": {
   "codemirror_mode": {
    "name": "ipython",
    "version": 3
   },
   "file_extension": ".py",
   "mimetype": "text/x-python",
   "name": "python",
   "nbconvert_exporter": "python",
   "pygments_lexer": "ipython3",
   "version": "3.9.7"
  }
 },
 "nbformat": 4,
 "nbformat_minor": 5
}
